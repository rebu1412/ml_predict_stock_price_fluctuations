{
 "cells": [
  {
   "cell_type": "markdown",
   "id": "fafe65b9-1d3e-442a-8210-8c98ecb1a162",
   "metadata": {},
   "source": [
    "# Import các thư viện cần sử dụng"
   ]
  },
  {
   "cell_type": "code",
   "execution_count": 2,
   "id": "04981d90-a310-4241-bb6f-88d8cde38ac7",
   "metadata": {},
   "outputs": [],
   "source": [
    "import pandas as pd\n",
    "from sklearn.model_selection import train_test_split\n",
    "from sklearn.linear_model import LinearRegression\n",
    "from sklearn.metrics import mean_squared_error\n",
    "from sklearn.metrics import mean_absolute_error, mean_squared_error\n",
    "from sklearn.tree import DecisionTreeRegressor\n",
    "from sklearn.ensemble import RandomForestRegressor\n",
    "import tensorflow as tf"
   ]
  },
  {
   "cell_type": "markdown",
   "id": "cebc24f2-27f0-4606-acc4-292150ddff0e",
   "metadata": {},
   "source": [
    "# Tiền xử lý dữ liệu"
   ]
  },
  {
   "cell_type": "code",
   "execution_count": 3,
   "id": "caa783e6-26bb-4323-8df8-57fd820cbd42",
   "metadata": {},
   "outputs": [
    {
     "data": {
      "text/html": [
       "<div>\n",
       "<style scoped>\n",
       "    .dataframe tbody tr th:only-of-type {\n",
       "        vertical-align: middle;\n",
       "    }\n",
       "\n",
       "    .dataframe tbody tr th {\n",
       "        vertical-align: top;\n",
       "    }\n",
       "\n",
       "    .dataframe thead th {\n",
       "        text-align: right;\n",
       "    }\n",
       "</style>\n",
       "<table border=\"1\" class=\"dataframe\">\n",
       "  <thead>\n",
       "    <tr style=\"text-align: right;\">\n",
       "      <th></th>\n",
       "      <th>Ticker</th>\n",
       "      <th>Date/Time</th>\n",
       "      <th>Open</th>\n",
       "      <th>High</th>\n",
       "      <th>Low</th>\n",
       "      <th>Close</th>\n",
       "      <th>Volume</th>\n",
       "      <th>Open Interest</th>\n",
       "    </tr>\n",
       "  </thead>\n",
       "  <tbody>\n",
       "    <tr>\n",
       "      <th>0</th>\n",
       "      <td>VIC</td>\n",
       "      <td>10/17/2018 9:39</td>\n",
       "      <td>98.5</td>\n",
       "      <td>98.5</td>\n",
       "      <td>98.5</td>\n",
       "      <td>98.5</td>\n",
       "      <td>390</td>\n",
       "      <td>0</td>\n",
       "    </tr>\n",
       "    <tr>\n",
       "      <th>1</th>\n",
       "      <td>VIC</td>\n",
       "      <td>10/17/2018 9:40</td>\n",
       "      <td>98.5</td>\n",
       "      <td>98.5</td>\n",
       "      <td>98.5</td>\n",
       "      <td>98.5</td>\n",
       "      <td>760</td>\n",
       "      <td>0</td>\n",
       "    </tr>\n",
       "    <tr>\n",
       "      <th>2</th>\n",
       "      <td>VIC</td>\n",
       "      <td>10/17/2018 9:41</td>\n",
       "      <td>98.6</td>\n",
       "      <td>98.6</td>\n",
       "      <td>98.6</td>\n",
       "      <td>98.6</td>\n",
       "      <td>2060</td>\n",
       "      <td>0</td>\n",
       "    </tr>\n",
       "    <tr>\n",
       "      <th>3</th>\n",
       "      <td>VIC</td>\n",
       "      <td>10/17/2018 9:42</td>\n",
       "      <td>98.6</td>\n",
       "      <td>98.6</td>\n",
       "      <td>98.6</td>\n",
       "      <td>98.6</td>\n",
       "      <td>5540</td>\n",
       "      <td>0</td>\n",
       "    </tr>\n",
       "    <tr>\n",
       "      <th>4</th>\n",
       "      <td>VIC</td>\n",
       "      <td>10/17/2018 9:43</td>\n",
       "      <td>98.6</td>\n",
       "      <td>98.7</td>\n",
       "      <td>98.6</td>\n",
       "      <td>98.7</td>\n",
       "      <td>760</td>\n",
       "      <td>0</td>\n",
       "    </tr>\n",
       "  </tbody>\n",
       "</table>\n",
       "</div>"
      ],
      "text/plain": [
       "  Ticker        Date/Time  Open  High   Low  Close  Volume  Open Interest\n",
       "0    VIC  10/17/2018 9:39  98.5  98.5  98.5   98.5     390              0\n",
       "1    VIC  10/17/2018 9:40  98.5  98.5  98.5   98.5     760              0\n",
       "2    VIC  10/17/2018 9:41  98.6  98.6  98.6   98.6    2060              0\n",
       "3    VIC  10/17/2018 9:42  98.6  98.6  98.6   98.6    5540              0\n",
       "4    VIC  10/17/2018 9:43  98.6  98.7  98.6   98.7     760              0"
      ]
     },
     "execution_count": 3,
     "metadata": {},
     "output_type": "execute_result"
    }
   ],
   "source": [
    "# Đọc dữ liệu từ file CSV\n",
    "vic_df = pd.read_csv(\"data/VIC.csv\")\n",
    "vic_df.head() "
   ]
  },
  {
   "cell_type": "code",
   "execution_count": 4,
   "id": "89cf24d6-423f-4e9c-8d49-f19241b811be",
   "metadata": {},
   "outputs": [],
   "source": [
    "#Xóa cột Open Interest\n",
    "vic_df = vic_df.drop(columns=['Open Interest'])\n",
    "\n",
    "#Chuyển đổi cột Date/Time thành kiểu datetime\n",
    "vic_df['Date/Time'] = pd.to_datetime(vic_df['Date/Time'])"
   ]
  },
  {
   "cell_type": "code",
   "execution_count": 5,
   "id": "e36d9a37-591d-4136-8c20-e307920bab0f",
   "metadata": {},
   "outputs": [
    {
     "data": {
      "text/html": [
       "<div>\n",
       "<style scoped>\n",
       "    .dataframe tbody tr th:only-of-type {\n",
       "        vertical-align: middle;\n",
       "    }\n",
       "\n",
       "    .dataframe tbody tr th {\n",
       "        vertical-align: top;\n",
       "    }\n",
       "\n",
       "    .dataframe thead th {\n",
       "        text-align: right;\n",
       "    }\n",
       "</style>\n",
       "<table border=\"1\" class=\"dataframe\">\n",
       "  <thead>\n",
       "    <tr style=\"text-align: right;\">\n",
       "      <th></th>\n",
       "      <th>Ticker</th>\n",
       "      <th>Date/Time</th>\n",
       "      <th>Open</th>\n",
       "      <th>High</th>\n",
       "      <th>Low</th>\n",
       "      <th>Close</th>\n",
       "      <th>Volume</th>\n",
       "    </tr>\n",
       "  </thead>\n",
       "  <tbody>\n",
       "    <tr>\n",
       "      <th>0</th>\n",
       "      <td>VIC</td>\n",
       "      <td>2018-10-17 09:39:00</td>\n",
       "      <td>98.5</td>\n",
       "      <td>98.5</td>\n",
       "      <td>98.5</td>\n",
       "      <td>98.5</td>\n",
       "      <td>390</td>\n",
       "    </tr>\n",
       "    <tr>\n",
       "      <th>1</th>\n",
       "      <td>VIC</td>\n",
       "      <td>2018-10-17 09:40:00</td>\n",
       "      <td>98.5</td>\n",
       "      <td>98.5</td>\n",
       "      <td>98.5</td>\n",
       "      <td>98.5</td>\n",
       "      <td>760</td>\n",
       "    </tr>\n",
       "    <tr>\n",
       "      <th>2</th>\n",
       "      <td>VIC</td>\n",
       "      <td>2018-10-17 09:41:00</td>\n",
       "      <td>98.6</td>\n",
       "      <td>98.6</td>\n",
       "      <td>98.6</td>\n",
       "      <td>98.6</td>\n",
       "      <td>2060</td>\n",
       "    </tr>\n",
       "    <tr>\n",
       "      <th>3</th>\n",
       "      <td>VIC</td>\n",
       "      <td>2018-10-17 09:42:00</td>\n",
       "      <td>98.6</td>\n",
       "      <td>98.6</td>\n",
       "      <td>98.6</td>\n",
       "      <td>98.6</td>\n",
       "      <td>5540</td>\n",
       "    </tr>\n",
       "    <tr>\n",
       "      <th>4</th>\n",
       "      <td>VIC</td>\n",
       "      <td>2018-10-17 09:43:00</td>\n",
       "      <td>98.6</td>\n",
       "      <td>98.7</td>\n",
       "      <td>98.6</td>\n",
       "      <td>98.7</td>\n",
       "      <td>760</td>\n",
       "    </tr>\n",
       "  </tbody>\n",
       "</table>\n",
       "</div>"
      ],
      "text/plain": [
       "  Ticker           Date/Time  Open  High   Low  Close  Volume\n",
       "0    VIC 2018-10-17 09:39:00  98.5  98.5  98.5   98.5     390\n",
       "1    VIC 2018-10-17 09:40:00  98.5  98.5  98.5   98.5     760\n",
       "2    VIC 2018-10-17 09:41:00  98.6  98.6  98.6   98.6    2060\n",
       "3    VIC 2018-10-17 09:42:00  98.6  98.6  98.6   98.6    5540\n",
       "4    VIC 2018-10-17 09:43:00  98.6  98.7  98.6   98.7     760"
      ]
     },
     "execution_count": 5,
     "metadata": {},
     "output_type": "execute_result"
    }
   ],
   "source": [
    "vic_df.head()"
   ]
  },
  {
   "cell_type": "code",
   "execution_count": 6,
   "id": "ec24e66e-1872-49f1-980e-fe638a32428f",
   "metadata": {},
   "outputs": [
    {
     "data": {
      "text/html": [
       "<div>\n",
       "<style scoped>\n",
       "    .dataframe tbody tr th:only-of-type {\n",
       "        vertical-align: middle;\n",
       "    }\n",
       "\n",
       "    .dataframe tbody tr th {\n",
       "        vertical-align: top;\n",
       "    }\n",
       "\n",
       "    .dataframe thead th {\n",
       "        text-align: right;\n",
       "    }\n",
       "</style>\n",
       "<table border=\"1\" class=\"dataframe\">\n",
       "  <thead>\n",
       "    <tr style=\"text-align: right;\">\n",
       "      <th></th>\n",
       "      <th>Date/Time</th>\n",
       "      <th>Close</th>\n",
       "      <th>Price Change</th>\n",
       "    </tr>\n",
       "  </thead>\n",
       "  <tbody>\n",
       "    <tr>\n",
       "      <th>0</th>\n",
       "      <td>2018-10-17 09:39:00</td>\n",
       "      <td>98.5</td>\n",
       "      <td>0.0</td>\n",
       "    </tr>\n",
       "    <tr>\n",
       "      <th>1</th>\n",
       "      <td>2018-10-17 09:40:00</td>\n",
       "      <td>98.5</td>\n",
       "      <td>0.1</td>\n",
       "    </tr>\n",
       "    <tr>\n",
       "      <th>2</th>\n",
       "      <td>2018-10-17 09:41:00</td>\n",
       "      <td>98.6</td>\n",
       "      <td>0.0</td>\n",
       "    </tr>\n",
       "    <tr>\n",
       "      <th>3</th>\n",
       "      <td>2018-10-17 09:42:00</td>\n",
       "      <td>98.6</td>\n",
       "      <td>0.1</td>\n",
       "    </tr>\n",
       "    <tr>\n",
       "      <th>4</th>\n",
       "      <td>2018-10-17 09:43:00</td>\n",
       "      <td>98.7</td>\n",
       "      <td>0.0</td>\n",
       "    </tr>\n",
       "  </tbody>\n",
       "</table>\n",
       "</div>"
      ],
      "text/plain": [
       "            Date/Time  Close  Price Change\n",
       "0 2018-10-17 09:39:00   98.5           0.0\n",
       "1 2018-10-17 09:40:00   98.5           0.1\n",
       "2 2018-10-17 09:41:00   98.6           0.0\n",
       "3 2018-10-17 09:42:00   98.6           0.1\n",
       "4 2018-10-17 09:43:00   98.7           0.0"
      ]
     },
     "execution_count": 6,
     "metadata": {},
     "output_type": "execute_result"
    }
   ],
   "source": [
    "#Sắp xếp dữ liệu theo cột Date/Time\n",
    "vic_df = vic_df.sort_values(by=\"Date/Time\")\n",
    "\n",
    "#Tính toán biến động cổ phiếu sau 1 phút\n",
    "vic_df[\"Price Change\"] = vic_df[\"Close\"].shift(-1) - vic_df[\"Close\"]\n",
    "vic_df = vic_df.dropna()\n",
    "\n",
    "vic_df[['Date/Time', 'Close', 'Price Change']].head()"
   ]
  },
  {
   "cell_type": "markdown",
   "id": "ab6a5cdc-4aba-41dd-8c93-6c376ec1ed55",
   "metadata": {},
   "source": [
    "# Chia dữ liệu thành tập dữ liệu và kiểm tra"
   ]
  },
  {
   "cell_type": "code",
   "execution_count": 7,
   "id": "cae8fe41-2da7-4e73-b7b6-54b03d6467c0",
   "metadata": {},
   "outputs": [
    {
     "name": "stdout",
     "output_type": "stream",
     "text": [
      "Kích thước tập huấn luyện: 81012\n",
      "Kích thước tập kiểm tra: 20253\n"
     ]
    }
   ],
   "source": [
    "X = vic_df[['Open', 'High', 'Low', 'Volume']]\n",
    "y = vic_df['Price Change']\n",
    "\n",
    "# Chia dữ liệu thành tập huấn luyện và tập kiểm tra\n",
    "X_train, X_test, y_train, y_test = train_test_split(X, y, test_size=0.2, random_state=42)\n",
    "\n",
    "print(\"Kích thước tập huấn luyện:\", X_train.shape[0])\n",
    "print(\"Kích thước tập kiểm tra:\", X_test.shape[0])"
   ]
  },
  {
   "cell_type": "markdown",
   "id": "dbe47f9a-c0d5-4961-b152-6646cbd78f60",
   "metadata": {},
   "source": [
    "# Huấn luyện mô hình Linear Regression"
   ]
  },
  {
   "cell_type": "code",
   "execution_count": 8,
   "id": "f43ffafa-c939-4a7d-8cf3-1f0ac9e9f99a",
   "metadata": {},
   "outputs": [
    {
     "data": {
      "text/html": [
       "<style>#sk-container-id-1 {color: black;}#sk-container-id-1 pre{padding: 0;}#sk-container-id-1 div.sk-toggleable {background-color: white;}#sk-container-id-1 label.sk-toggleable__label {cursor: pointer;display: block;width: 100%;margin-bottom: 0;padding: 0.3em;box-sizing: border-box;text-align: center;}#sk-container-id-1 label.sk-toggleable__label-arrow:before {content: \"▸\";float: left;margin-right: 0.25em;color: #696969;}#sk-container-id-1 label.sk-toggleable__label-arrow:hover:before {color: black;}#sk-container-id-1 div.sk-estimator:hover label.sk-toggleable__label-arrow:before {color: black;}#sk-container-id-1 div.sk-toggleable__content {max-height: 0;max-width: 0;overflow: hidden;text-align: left;background-color: #f0f8ff;}#sk-container-id-1 div.sk-toggleable__content pre {margin: 0.2em;color: black;border-radius: 0.25em;background-color: #f0f8ff;}#sk-container-id-1 input.sk-toggleable__control:checked~div.sk-toggleable__content {max-height: 200px;max-width: 100%;overflow: auto;}#sk-container-id-1 input.sk-toggleable__control:checked~label.sk-toggleable__label-arrow:before {content: \"▾\";}#sk-container-id-1 div.sk-estimator input.sk-toggleable__control:checked~label.sk-toggleable__label {background-color: #d4ebff;}#sk-container-id-1 div.sk-label input.sk-toggleable__control:checked~label.sk-toggleable__label {background-color: #d4ebff;}#sk-container-id-1 input.sk-hidden--visually {border: 0;clip: rect(1px 1px 1px 1px);clip: rect(1px, 1px, 1px, 1px);height: 1px;margin: -1px;overflow: hidden;padding: 0;position: absolute;width: 1px;}#sk-container-id-1 div.sk-estimator {font-family: monospace;background-color: #f0f8ff;border: 1px dotted black;border-radius: 0.25em;box-sizing: border-box;margin-bottom: 0.5em;}#sk-container-id-1 div.sk-estimator:hover {background-color: #d4ebff;}#sk-container-id-1 div.sk-parallel-item::after {content: \"\";width: 100%;border-bottom: 1px solid gray;flex-grow: 1;}#sk-container-id-1 div.sk-label:hover label.sk-toggleable__label {background-color: #d4ebff;}#sk-container-id-1 div.sk-serial::before {content: \"\";position: absolute;border-left: 1px solid gray;box-sizing: border-box;top: 0;bottom: 0;left: 50%;z-index: 0;}#sk-container-id-1 div.sk-serial {display: flex;flex-direction: column;align-items: center;background-color: white;padding-right: 0.2em;padding-left: 0.2em;position: relative;}#sk-container-id-1 div.sk-item {position: relative;z-index: 1;}#sk-container-id-1 div.sk-parallel {display: flex;align-items: stretch;justify-content: center;background-color: white;position: relative;}#sk-container-id-1 div.sk-item::before, #sk-container-id-1 div.sk-parallel-item::before {content: \"\";position: absolute;border-left: 1px solid gray;box-sizing: border-box;top: 0;bottom: 0;left: 50%;z-index: -1;}#sk-container-id-1 div.sk-parallel-item {display: flex;flex-direction: column;z-index: 1;position: relative;background-color: white;}#sk-container-id-1 div.sk-parallel-item:first-child::after {align-self: flex-end;width: 50%;}#sk-container-id-1 div.sk-parallel-item:last-child::after {align-self: flex-start;width: 50%;}#sk-container-id-1 div.sk-parallel-item:only-child::after {width: 0;}#sk-container-id-1 div.sk-dashed-wrapped {border: 1px dashed gray;margin: 0 0.4em 0.5em 0.4em;box-sizing: border-box;padding-bottom: 0.4em;background-color: white;}#sk-container-id-1 div.sk-label label {font-family: monospace;font-weight: bold;display: inline-block;line-height: 1.2em;}#sk-container-id-1 div.sk-label-container {text-align: center;}#sk-container-id-1 div.sk-container {/* jupyter's `normalize.less` sets `[hidden] { display: none; }` but bootstrap.min.css set `[hidden] { display: none !important; }` so we also need the `!important` here to be able to override the default hidden behavior on the sphinx rendered scikit-learn.org. See: https://github.com/scikit-learn/scikit-learn/issues/21755 */display: inline-block !important;position: relative;}#sk-container-id-1 div.sk-text-repr-fallback {display: none;}</style><div id=\"sk-container-id-1\" class=\"sk-top-container\"><div class=\"sk-text-repr-fallback\"><pre>LinearRegression()</pre><b>In a Jupyter environment, please rerun this cell to show the HTML representation or trust the notebook. <br />On GitHub, the HTML representation is unable to render, please try loading this page with nbviewer.org.</b></div><div class=\"sk-container\" hidden><div class=\"sk-item\"><div class=\"sk-estimator sk-toggleable\"><input class=\"sk-toggleable__control sk-hidden--visually\" id=\"sk-estimator-id-1\" type=\"checkbox\" checked><label for=\"sk-estimator-id-1\" class=\"sk-toggleable__label sk-toggleable__label-arrow\">LinearRegression</label><div class=\"sk-toggleable__content\"><pre>LinearRegression()</pre></div></div></div></div></div>"
      ],
      "text/plain": [
       "LinearRegression()"
      ]
     },
     "execution_count": 8,
     "metadata": {},
     "output_type": "execute_result"
    }
   ],
   "source": [
    "model_lr = LinearRegression()\n",
    "model_lr.fit(X_train, y_train)"
   ]
  },
  {
   "cell_type": "code",
   "execution_count": 9,
   "id": "9c06e7b0-5e5b-448c-b2aa-00a6d2a54147",
   "metadata": {},
   "outputs": [
    {
     "name": "stdout",
     "output_type": "stream",
     "text": [
      "Mean Absolute Error (MAE): 0.09439288743855802\n",
      "Mean Squared Error (MSE): 0.034906826388395686\n",
      "Root Mean Squared Error (RMSE): 0.1868336864390244\n"
     ]
    }
   ],
   "source": [
    "# Dự đoán trên tập kiểm tra\n",
    "y_pred = model_lr.predict(X_test)\n",
    "\n",
    "# Đánh giá hiệu suất của mô hình\n",
    "mae_lr = mean_absolute_error(y_test, y_pred)\n",
    "mse_lr = mean_squared_error(y_test, y_pred)\n",
    "rmse_lr = mean_squared_error(y_test, y_pred, squared=False)\n",
    "\n",
    "print(\"Mean Absolute Error (MAE):\", mae_lr)\n",
    "print(\"Mean Squared Error (MSE):\", mse_lr)\n",
    "print(\"Root Mean Squared Error (RMSE):\", rmse_lr)"
   ]
  },
  {
   "cell_type": "markdown",
   "id": "d4081130-4fec-4346-a6bb-cb75d9901f5e",
   "metadata": {},
   "source": [
    "# Huấn luyện mô hình Decision Trees"
   ]
  },
  {
   "cell_type": "code",
   "execution_count": 10,
   "id": "0a379ef2-fe37-445f-886f-3211d24bf49d",
   "metadata": {},
   "outputs": [
    {
     "data": {
      "text/html": [
       "<style>#sk-container-id-2 {color: black;}#sk-container-id-2 pre{padding: 0;}#sk-container-id-2 div.sk-toggleable {background-color: white;}#sk-container-id-2 label.sk-toggleable__label {cursor: pointer;display: block;width: 100%;margin-bottom: 0;padding: 0.3em;box-sizing: border-box;text-align: center;}#sk-container-id-2 label.sk-toggleable__label-arrow:before {content: \"▸\";float: left;margin-right: 0.25em;color: #696969;}#sk-container-id-2 label.sk-toggleable__label-arrow:hover:before {color: black;}#sk-container-id-2 div.sk-estimator:hover label.sk-toggleable__label-arrow:before {color: black;}#sk-container-id-2 div.sk-toggleable__content {max-height: 0;max-width: 0;overflow: hidden;text-align: left;background-color: #f0f8ff;}#sk-container-id-2 div.sk-toggleable__content pre {margin: 0.2em;color: black;border-radius: 0.25em;background-color: #f0f8ff;}#sk-container-id-2 input.sk-toggleable__control:checked~div.sk-toggleable__content {max-height: 200px;max-width: 100%;overflow: auto;}#sk-container-id-2 input.sk-toggleable__control:checked~label.sk-toggleable__label-arrow:before {content: \"▾\";}#sk-container-id-2 div.sk-estimator input.sk-toggleable__control:checked~label.sk-toggleable__label {background-color: #d4ebff;}#sk-container-id-2 div.sk-label input.sk-toggleable__control:checked~label.sk-toggleable__label {background-color: #d4ebff;}#sk-container-id-2 input.sk-hidden--visually {border: 0;clip: rect(1px 1px 1px 1px);clip: rect(1px, 1px, 1px, 1px);height: 1px;margin: -1px;overflow: hidden;padding: 0;position: absolute;width: 1px;}#sk-container-id-2 div.sk-estimator {font-family: monospace;background-color: #f0f8ff;border: 1px dotted black;border-radius: 0.25em;box-sizing: border-box;margin-bottom: 0.5em;}#sk-container-id-2 div.sk-estimator:hover {background-color: #d4ebff;}#sk-container-id-2 div.sk-parallel-item::after {content: \"\";width: 100%;border-bottom: 1px solid gray;flex-grow: 1;}#sk-container-id-2 div.sk-label:hover label.sk-toggleable__label {background-color: #d4ebff;}#sk-container-id-2 div.sk-serial::before {content: \"\";position: absolute;border-left: 1px solid gray;box-sizing: border-box;top: 0;bottom: 0;left: 50%;z-index: 0;}#sk-container-id-2 div.sk-serial {display: flex;flex-direction: column;align-items: center;background-color: white;padding-right: 0.2em;padding-left: 0.2em;position: relative;}#sk-container-id-2 div.sk-item {position: relative;z-index: 1;}#sk-container-id-2 div.sk-parallel {display: flex;align-items: stretch;justify-content: center;background-color: white;position: relative;}#sk-container-id-2 div.sk-item::before, #sk-container-id-2 div.sk-parallel-item::before {content: \"\";position: absolute;border-left: 1px solid gray;box-sizing: border-box;top: 0;bottom: 0;left: 50%;z-index: -1;}#sk-container-id-2 div.sk-parallel-item {display: flex;flex-direction: column;z-index: 1;position: relative;background-color: white;}#sk-container-id-2 div.sk-parallel-item:first-child::after {align-self: flex-end;width: 50%;}#sk-container-id-2 div.sk-parallel-item:last-child::after {align-self: flex-start;width: 50%;}#sk-container-id-2 div.sk-parallel-item:only-child::after {width: 0;}#sk-container-id-2 div.sk-dashed-wrapped {border: 1px dashed gray;margin: 0 0.4em 0.5em 0.4em;box-sizing: border-box;padding-bottom: 0.4em;background-color: white;}#sk-container-id-2 div.sk-label label {font-family: monospace;font-weight: bold;display: inline-block;line-height: 1.2em;}#sk-container-id-2 div.sk-label-container {text-align: center;}#sk-container-id-2 div.sk-container {/* jupyter's `normalize.less` sets `[hidden] { display: none; }` but bootstrap.min.css set `[hidden] { display: none !important; }` so we also need the `!important` here to be able to override the default hidden behavior on the sphinx rendered scikit-learn.org. See: https://github.com/scikit-learn/scikit-learn/issues/21755 */display: inline-block !important;position: relative;}#sk-container-id-2 div.sk-text-repr-fallback {display: none;}</style><div id=\"sk-container-id-2\" class=\"sk-top-container\"><div class=\"sk-text-repr-fallback\"><pre>DecisionTreeRegressor()</pre><b>In a Jupyter environment, please rerun this cell to show the HTML representation or trust the notebook. <br />On GitHub, the HTML representation is unable to render, please try loading this page with nbviewer.org.</b></div><div class=\"sk-container\" hidden><div class=\"sk-item\"><div class=\"sk-estimator sk-toggleable\"><input class=\"sk-toggleable__control sk-hidden--visually\" id=\"sk-estimator-id-2\" type=\"checkbox\" checked><label for=\"sk-estimator-id-2\" class=\"sk-toggleable__label sk-toggleable__label-arrow\">DecisionTreeRegressor</label><div class=\"sk-toggleable__content\"><pre>DecisionTreeRegressor()</pre></div></div></div></div></div>"
      ],
      "text/plain": [
       "DecisionTreeRegressor()"
      ]
     },
     "execution_count": 10,
     "metadata": {},
     "output_type": "execute_result"
    }
   ],
   "source": [
    "model_dt = DecisionTreeRegressor()\n",
    "model_dt.fit(X_train, y_train)"
   ]
  },
  {
   "cell_type": "code",
   "execution_count": 11,
   "id": "c27835ef-a830-44b9-826d-b5283da81b9b",
   "metadata": {},
   "outputs": [
    {
     "name": "stdout",
     "output_type": "stream",
     "text": [
      "Mean Absolute Error (MAE): 0.1445261554591917\n",
      "Mean Squared Error (MSE): 0.06922524581126864\n",
      "Root Mean Squared Error (RMSE): 0.2631069094707865\n"
     ]
    }
   ],
   "source": [
    "# Dự đoán trên tập kiểm tra\n",
    "y_pred = model_dt.predict(X_test)\n",
    "\n",
    "# Đánh giá hiệu suất của mô hình\n",
    "mae_dt = mean_absolute_error(y_test, y_pred)\n",
    "mse_dt = mean_squared_error(y_test, y_pred)\n",
    "rmse_dt = mean_squared_error(y_test, y_pred, squared=False)\n",
    "\n",
    "print(\"Mean Absolute Error (MAE):\", mae_dt)\n",
    "print(\"Mean Squared Error (MSE):\", mse_dt)\n",
    "print(\"Root Mean Squared Error (RMSE):\", rmse_dt)"
   ]
  },
  {
   "cell_type": "markdown",
   "id": "6616c85b-66ec-441b-8192-904ef9e0e0d7",
   "metadata": {},
   "source": [
    "# Huấn luyện mô hình RandomForest"
   ]
  },
  {
   "cell_type": "code",
   "execution_count": 12,
   "id": "982d92cb-70fc-417a-95f2-aa2cf9877e8e",
   "metadata": {},
   "outputs": [
    {
     "data": {
      "text/html": [
       "<style>#sk-container-id-3 {color: black;}#sk-container-id-3 pre{padding: 0;}#sk-container-id-3 div.sk-toggleable {background-color: white;}#sk-container-id-3 label.sk-toggleable__label {cursor: pointer;display: block;width: 100%;margin-bottom: 0;padding: 0.3em;box-sizing: border-box;text-align: center;}#sk-container-id-3 label.sk-toggleable__label-arrow:before {content: \"▸\";float: left;margin-right: 0.25em;color: #696969;}#sk-container-id-3 label.sk-toggleable__label-arrow:hover:before {color: black;}#sk-container-id-3 div.sk-estimator:hover label.sk-toggleable__label-arrow:before {color: black;}#sk-container-id-3 div.sk-toggleable__content {max-height: 0;max-width: 0;overflow: hidden;text-align: left;background-color: #f0f8ff;}#sk-container-id-3 div.sk-toggleable__content pre {margin: 0.2em;color: black;border-radius: 0.25em;background-color: #f0f8ff;}#sk-container-id-3 input.sk-toggleable__control:checked~div.sk-toggleable__content {max-height: 200px;max-width: 100%;overflow: auto;}#sk-container-id-3 input.sk-toggleable__control:checked~label.sk-toggleable__label-arrow:before {content: \"▾\";}#sk-container-id-3 div.sk-estimator input.sk-toggleable__control:checked~label.sk-toggleable__label {background-color: #d4ebff;}#sk-container-id-3 div.sk-label input.sk-toggleable__control:checked~label.sk-toggleable__label {background-color: #d4ebff;}#sk-container-id-3 input.sk-hidden--visually {border: 0;clip: rect(1px 1px 1px 1px);clip: rect(1px, 1px, 1px, 1px);height: 1px;margin: -1px;overflow: hidden;padding: 0;position: absolute;width: 1px;}#sk-container-id-3 div.sk-estimator {font-family: monospace;background-color: #f0f8ff;border: 1px dotted black;border-radius: 0.25em;box-sizing: border-box;margin-bottom: 0.5em;}#sk-container-id-3 div.sk-estimator:hover {background-color: #d4ebff;}#sk-container-id-3 div.sk-parallel-item::after {content: \"\";width: 100%;border-bottom: 1px solid gray;flex-grow: 1;}#sk-container-id-3 div.sk-label:hover label.sk-toggleable__label {background-color: #d4ebff;}#sk-container-id-3 div.sk-serial::before {content: \"\";position: absolute;border-left: 1px solid gray;box-sizing: border-box;top: 0;bottom: 0;left: 50%;z-index: 0;}#sk-container-id-3 div.sk-serial {display: flex;flex-direction: column;align-items: center;background-color: white;padding-right: 0.2em;padding-left: 0.2em;position: relative;}#sk-container-id-3 div.sk-item {position: relative;z-index: 1;}#sk-container-id-3 div.sk-parallel {display: flex;align-items: stretch;justify-content: center;background-color: white;position: relative;}#sk-container-id-3 div.sk-item::before, #sk-container-id-3 div.sk-parallel-item::before {content: \"\";position: absolute;border-left: 1px solid gray;box-sizing: border-box;top: 0;bottom: 0;left: 50%;z-index: -1;}#sk-container-id-3 div.sk-parallel-item {display: flex;flex-direction: column;z-index: 1;position: relative;background-color: white;}#sk-container-id-3 div.sk-parallel-item:first-child::after {align-self: flex-end;width: 50%;}#sk-container-id-3 div.sk-parallel-item:last-child::after {align-self: flex-start;width: 50%;}#sk-container-id-3 div.sk-parallel-item:only-child::after {width: 0;}#sk-container-id-3 div.sk-dashed-wrapped {border: 1px dashed gray;margin: 0 0.4em 0.5em 0.4em;box-sizing: border-box;padding-bottom: 0.4em;background-color: white;}#sk-container-id-3 div.sk-label label {font-family: monospace;font-weight: bold;display: inline-block;line-height: 1.2em;}#sk-container-id-3 div.sk-label-container {text-align: center;}#sk-container-id-3 div.sk-container {/* jupyter's `normalize.less` sets `[hidden] { display: none; }` but bootstrap.min.css set `[hidden] { display: none !important; }` so we also need the `!important` here to be able to override the default hidden behavior on the sphinx rendered scikit-learn.org. See: https://github.com/scikit-learn/scikit-learn/issues/21755 */display: inline-block !important;position: relative;}#sk-container-id-3 div.sk-text-repr-fallback {display: none;}</style><div id=\"sk-container-id-3\" class=\"sk-top-container\"><div class=\"sk-text-repr-fallback\"><pre>RandomForestRegressor()</pre><b>In a Jupyter environment, please rerun this cell to show the HTML representation or trust the notebook. <br />On GitHub, the HTML representation is unable to render, please try loading this page with nbviewer.org.</b></div><div class=\"sk-container\" hidden><div class=\"sk-item\"><div class=\"sk-estimator sk-toggleable\"><input class=\"sk-toggleable__control sk-hidden--visually\" id=\"sk-estimator-id-3\" type=\"checkbox\" checked><label for=\"sk-estimator-id-3\" class=\"sk-toggleable__label sk-toggleable__label-arrow\">RandomForestRegressor</label><div class=\"sk-toggleable__content\"><pre>RandomForestRegressor()</pre></div></div></div></div></div>"
      ],
      "text/plain": [
       "RandomForestRegressor()"
      ]
     },
     "execution_count": 12,
     "metadata": {},
     "output_type": "execute_result"
    }
   ],
   "source": [
    "model_rf = RandomForestRegressor()\n",
    "model_rf.fit(X_train, y_train)"
   ]
  },
  {
   "cell_type": "code",
   "execution_count": 14,
   "id": "be35b760-a525-41f9-abf8-5b2929d4dbd3",
   "metadata": {},
   "outputs": [
    {
     "name": "stdout",
     "output_type": "stream",
     "text": [
      "Mean Absolute Error (MAE): 0.11792346859069502\n",
      "Mean Squared Error (MSE): 0.04167426615427307\n",
      "Root Mean Squared Error (RMSE): 0.20414275925017047\n"
     ]
    }
   ],
   "source": [
    "# Dự đoán trên tập kiểm tra\n",
    "y_pred = model_rf.predict(X_test)\n",
    "\n",
    "# Đánh giá hiệu suất của mô hình\n",
    "mae_rf = mean_absolute_error(y_test, y_pred)\n",
    "mse_rf = mean_squared_error(y_test, y_pred)\n",
    "rmse_rf = mean_squared_error(y_test, y_pred, squared=False)\n",
    "\n",
    "print(\"Mean Absolute Error (MAE):\", mae_rf)\n",
    "print(\"Mean Squared Error (MSE):\", mse_rf)\n",
    "print(\"Root Mean Squared Error (RMSE):\", rmse_rf)"
   ]
  },
  {
   "cell_type": "markdown",
   "id": "d138e981-5c57-481e-9ee8-77c1fd8e7f10",
   "metadata": {},
   "source": [
    "# Huấn luyện mô hình Neural"
   ]
  },
  {
   "cell_type": "code",
   "execution_count": 15,
   "id": "f27c82f2-672c-46e9-8f17-fec52045c78f",
   "metadata": {},
   "outputs": [
    {
     "name": "stdout",
     "output_type": "stream",
     "text": [
      "Epoch 1/30\n",
      "2532/2532 [==============================] - 2s 784us/step - loss: 272874.4375\n",
      "Epoch 2/30\n",
      "2532/2532 [==============================] - 2s 758us/step - loss: 221655.7344\n",
      "Epoch 3/30\n",
      "2532/2532 [==============================] - 2s 753us/step - loss: 67003.0781\n",
      "Epoch 4/30\n",
      "2532/2532 [==============================] - 2s 748us/step - loss: 497.0856\n",
      "Epoch 5/30\n",
      "2532/2532 [==============================] - 2s 776us/step - loss: 75956.1562\n",
      "Epoch 6/30\n",
      "2532/2532 [==============================] - 2s 749us/step - loss: 88031.6641\n",
      "Epoch 7/30\n",
      "2532/2532 [==============================] - 2s 745us/step - loss: 406.9628\n",
      "Epoch 8/30\n",
      "2532/2532 [==============================] - 2s 747us/step - loss: 12602.6396\n",
      "Epoch 9/30\n",
      "2532/2532 [==============================] - 2s 749us/step - loss: 44966.9688\n",
      "Epoch 10/30\n",
      "2532/2532 [==============================] - 2s 763us/step - loss: 27.3918\n",
      "Epoch 11/30\n",
      "2532/2532 [==============================] - 2s 735us/step - loss: 103.0096\n",
      "Epoch 12/30\n",
      "2532/2532 [==============================] - 2s 742us/step - loss: 528.3024\n",
      "Epoch 13/30\n",
      "2532/2532 [==============================] - 2s 772us/step - loss: 9.4300\n",
      "Epoch 14/30\n",
      "2532/2532 [==============================] - 2s 732us/step - loss: 12.5139\n",
      "Epoch 15/30\n",
      "2532/2532 [==============================] - 2s 739us/step - loss: 0.0810\n",
      "Epoch 16/30\n",
      "2532/2532 [==============================] - 2s 760us/step - loss: 0.0578\n",
      "Epoch 17/30\n",
      "2532/2532 [==============================] - 2s 774us/step - loss: 0.0485\n",
      "Epoch 18/30\n",
      "2532/2532 [==============================] - 2s 771us/step - loss: 0.0468\n",
      "Epoch 19/30\n",
      "2532/2532 [==============================] - 2s 747us/step - loss: 0.0441\n",
      "Epoch 20/30\n",
      "2532/2532 [==============================] - 2s 745us/step - loss: 0.0421\n",
      "Epoch 21/30\n",
      "2532/2532 [==============================] - 2s 782us/step - loss: 0.0409\n",
      "Epoch 22/30\n",
      "2532/2532 [==============================] - 2s 752us/step - loss: 0.0409\n",
      "Epoch 23/30\n",
      "2532/2532 [==============================] - 2s 741us/step - loss: 0.0409\n",
      "Epoch 24/30\n",
      "2532/2532 [==============================] - 2s 743us/step - loss: 0.0409\n",
      "Epoch 25/30\n",
      "2532/2532 [==============================] - 2s 750us/step - loss: 0.0410\n",
      "Epoch 26/30\n",
      "2532/2532 [==============================] - 2s 744us/step - loss: 0.0409\n",
      "Epoch 27/30\n",
      "2532/2532 [==============================] - 2s 738us/step - loss: 0.0409\n",
      "Epoch 28/30\n",
      "2532/2532 [==============================] - 2s 735us/step - loss: 0.0409\n",
      "Epoch 29/30\n",
      "2532/2532 [==============================] - 2s 731us/step - loss: 0.0409\n",
      "Epoch 30/30\n",
      "2532/2532 [==============================] - 2s 782us/step - loss: 0.0409\n"
     ]
    },
    {
     "data": {
      "text/plain": [
       "<keras.callbacks.History at 0x252a9537550>"
      ]
     },
     "execution_count": 15,
     "metadata": {},
     "output_type": "execute_result"
    }
   ],
   "source": [
    "model_nn = tf.keras.Sequential([\n",
    "    tf.keras.layers.Dense(64, activation='relu', input_shape=(4,)),\n",
    "    tf.keras.layers.Dense(64, activation='relu'),\n",
    "    tf.keras.layers.Dense(1)  # Một lớp output để dự đoán giá\n",
    "])\n",
    "\n",
    "# Compile mô hình\n",
    "model_nn.compile(optimizer='adam', loss='mse')\n",
    "\n",
    "# Huấn luyện mô hình neural network trên tập huấn luyện\n",
    "model_nn.fit(X_train, y_train, epochs=30, batch_size=32, verbose=1)"
   ]
  },
  {
   "cell_type": "code",
   "execution_count": 16,
   "id": "df08dc64-f44a-46ab-a992-964d4a44688c",
   "metadata": {},
   "outputs": [
    {
     "name": "stdout",
     "output_type": "stream",
     "text": [
      "633/633 [==============================] - 0s 548us/step\n",
      "Mean Absolute Error (MAE): 0.09488447368334817\n",
      "Mean Squared Error (MSE): 0.03551426035791564\n",
      "Root Mean Squared Error (RMSE): 0.18845227607517942\n"
     ]
    }
   ],
   "source": [
    "# Dự đoán trên tập kiểm tra\n",
    "y_pred = model_nn.predict(X_test)\n",
    "\n",
    "# Đánh giá hiệu suất của mô hình \n",
    "mae_nn = mean_absolute_error(y_test, y_pred)\n",
    "mse_nn = mean_squared_error(y_test, y_pred)\n",
    "rmse_nn = mean_squared_error(y_test, y_pred, squared=False)\n",
    "\n",
    "print(\"Mean Absolute Error (MAE):\", mae_nn)\n",
    "print(\"Mean Squared Error (MSE):\", mse_nn)\n",
    "print(\"Root Mean Squared Error (RMSE):\", rmse_nn)"
   ]
  },
  {
   "cell_type": "markdown",
   "id": "ae0097c5-a28b-42f2-a8b3-83568b8b0ac2",
   "metadata": {},
   "source": [
    "# Lưu lại thông số của các model trên"
   ]
  },
  {
   "cell_type": "code",
   "execution_count": 17,
   "id": "594587e6-efd9-4fb7-bab8-e63e4b08f071",
   "metadata": {},
   "outputs": [],
   "source": [
    "import pandas as pd\n",
    "\n",
    "data = {\n",
    "    'Model': ['Linear Regression', 'Random Forests', 'Decision Trees', 'Neural Network'],\n",
    "    'MAE': [mae_lr, mae_rf, mae_dt, mae_nn],\n",
    "    'MSE': [mse_lr, mse_rf, mse_dt, mse_nn],\n",
    "    'RMSE': [rmse_lr, rmse_rf, rmse_dt, rmse_nn]\n",
    "}\n",
    "\n",
    "df = pd.DataFrame(data)\n",
    "\n",
    "# Lưu DataFrame vào tệp CSV\n",
    "df.to_csv('model_metrics_VIC.csv', index=False)"
   ]
  },
  {
   "cell_type": "markdown",
   "id": "46ad5bca-093e-4495-8c01-767a91ba9c86",
   "metadata": {},
   "source": [
    "### **Từ metrics của các mô hình trên, ta thấy rằng Linear Regression và Neural Network có hiệu suất tốt nhất trong việc dự đoán biến động giá cổ phiếu, theo sau bởi Random Forests, trong khi Decision Trees có hiệu suất thấp nhất.**"
   ]
  },
  {
   "cell_type": "code",
   "execution_count": null,
   "id": "a8fb05b3-bb0c-4ba4-a358-2bb64b158bd2",
   "metadata": {},
   "outputs": [],
   "source": []
  }
 ],
 "metadata": {
  "kernelspec": {
   "display_name": "Python 3 (ipykernel)",
   "language": "python",
   "name": "python3"
  },
  "language_info": {
   "codemirror_mode": {
    "name": "ipython",
    "version": 3
   },
   "file_extension": ".py",
   "mimetype": "text/x-python",
   "name": "python",
   "nbconvert_exporter": "python",
   "pygments_lexer": "ipython3",
   "version": "3.10.9"
  }
 },
 "nbformat": 4,
 "nbformat_minor": 5
}
